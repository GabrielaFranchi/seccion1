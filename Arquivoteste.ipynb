{
  "nbformat": 4,
  "nbformat_minor": 0,
  "metadata": {
    "colab": {
      "provenance": []
    },
    "kernelspec": {
      "name": "python3",
      "display_name": "Python 3"
    },
    "language_info": {
      "name": "python"
    }
  },
  "cells": [
    {
      "cell_type": "code",
      "execution_count": 4,
      "metadata": {
        "colab": {
          "base_uri": "https://localhost:8080/"
        },
        "id": "u8ucoR_vKDrz",
        "outputId": "f718e8fb-4668-482f-afee-11c5a8fd7096"
      },
      "outputs": [
        {
          "output_type": "stream",
          "name": "stdout",
          "text": [
            "Arquivo de teste =)\n"
          ]
        }
      ],
      "source": [
        "print (\"Arquivo de teste =)\")"
      ]
    }
  ]
}